{
 "cells": [
  {
   "cell_type": "code",
   "execution_count": 76,
   "metadata": {},
   "outputs": [
    {
     "data": {
      "text/plain": [
       "dict_keys(['__version__', '__globals__', 'cluster_assignment', '__header__', 'sample_type', 'DGE', 'genes', 'spinal_cluster_assignment'])"
      ]
     },
     "execution_count": 76,
     "metadata": {},
     "output_type": "execute_result"
    }
   ],
   "source": [
    "import os\n",
    "import scipy.io as sio\n",
    "import pandas as pd\n",
    "\n",
    "\n",
    "data = sio.loadmat('cluster1_from_km_7.mat')\n",
    "data.keys()"
   ]
  },
  {
   "cell_type": "code",
   "execution_count": 77,
   "metadata": {},
   "outputs": [
    {
     "data": {
      "text/plain": [
       "<69093x338 sparse matrix of type '<class 'numpy.float64'>'\n",
       "\twith 1528785 stored elements in Compressed Sparse Column format>"
      ]
     },
     "execution_count": 77,
     "metadata": {},
     "output_type": "execute_result"
    }
   ],
   "source": [
    "#Digital Expression Matrix\n",
    "DGE = data['DGE']\n",
    "\n",
    "#Genes\n",
    "genes = list(data['genes'])\n",
    "\n",
    "#Sample types\n",
    "sample_type = list(data['sample_type'])\n",
    "\n",
    "#Main cluster assignment\n",
    "cluster_assignment = list(data['cluster_assignment'])\n",
    "\n",
    "#Spinal cluster assignment\n",
    "spinal_cluster_assignment = list(data['spinal_cluster_assignment'])\n",
    "\n",
    "DGE"
   ]
  },
  {
   "cell_type": "code",
   "execution_count": 78,
   "metadata": {},
   "outputs": [],
   "source": [
    "s = pd.Series(spinal_cluster_assignment)\n",
    "s1 = s.drop_duplicates()\n",
    "len(s1)\n",
    "s1 = list(s1)\n"
   ]
  },
  {
   "cell_type": "code",
   "execution_count": 79,
   "metadata": {},
   "outputs": [],
   "source": [
    "import numpy as np\n",
    "values = np.array(s)\n",
    "searchval = s1\n",
    "index = []\n",
    "for x in searchval:\n",
    "    ii = np.where(values == x)\n",
    "    index.append(ii)\n"
   ]
  },
  {
   "cell_type": "code",
   "execution_count": null,
   "metadata": {},
   "outputs": [],
   "source": [
    "value_list = []\n",
    "for l in range(len()):\n",
    "    for x in range(len()):\n",
    "        value_list.append(DGE[l, x].sum())"
   ]
  },
  {
   "cell_type": "markdown",
   "metadata": {},
   "source": [
    "## mean for each cluster:\n",
    "\n",
    "value_list = []\n",
    "for x in range(0,338): \n",
    "    for l in index: \n",
    "\n",
    "            value_list.append(DGE[l, x].sum())"
   ]
  },
  {
   "cell_type": "code",
   "execution_count": 80,
   "metadata": {},
   "outputs": [
    {
     "ename": "NameError",
     "evalue": "name 'value_list' is not defined",
     "output_type": "error",
     "traceback": [
      "\u001b[0;31m---------------------------------------------------------------------------\u001b[0m",
      "\u001b[0;31mNameError\u001b[0m                                 Traceback (most recent call last)",
      "\u001b[0;32m<ipython-input-80-caf658a42aa2>\u001b[0m in \u001b[0;36m<module>\u001b[0;34m()\u001b[0m\n\u001b[0;32m----> 1\u001b[0;31m \u001b[0mlen\u001b[0m\u001b[0;34m(\u001b[0m\u001b[0mvalue_list\u001b[0m\u001b[0;34m)\u001b[0m\u001b[0;34m\u001b[0m\u001b[0m\n\u001b[0m",
      "\u001b[0;31mNameError\u001b[0m: name 'value_list' is not defined"
     ]
    }
   ],
   "source": [
    "len(value_list)"
   ]
  },
  {
   "cell_type": "code",
   "execution_count": 54,
   "metadata": {},
   "outputs": [
    {
     "data": {
      "text/plain": [
       "15210"
      ]
     },
     "execution_count": 54,
     "metadata": {},
     "output_type": "execute_result"
    }
   ],
   "source": [
    "338*45"
   ]
  },
  {
   "cell_type": "code",
   "execution_count": 81,
   "metadata": {},
   "outputs": [],
   "source": [
    "new_matrix =np.zeros((338*45))"
   ]
  },
  {
   "cell_type": "code",
   "execution_count": 82,
   "metadata": {},
   "outputs": [
    {
     "ename": "NameError",
     "evalue": "name 'value_list' is not defined",
     "output_type": "error",
     "traceback": [
      "\u001b[0;31m---------------------------------------------------------------------------\u001b[0m",
      "\u001b[0;31mNameError\u001b[0m                                 Traceback (most recent call last)",
      "\u001b[0;32m<ipython-input-82-a81f8ee4bb6e>\u001b[0m in \u001b[0;36m<module>\u001b[0;34m()\u001b[0m\n\u001b[0;32m----> 1\u001b[0;31m \u001b[0mvalue_array\u001b[0m \u001b[0;34m=\u001b[0m \u001b[0mnp\u001b[0m\u001b[0;34m.\u001b[0m\u001b[0marray\u001b[0m\u001b[0;34m(\u001b[0m\u001b[0mvalue_list\u001b[0m\u001b[0;34m)\u001b[0m\u001b[0;34m\u001b[0m\u001b[0m\n\u001b[0m",
      "\u001b[0;31mNameError\u001b[0m: name 'value_list' is not defined"
     ]
    }
   ],
   "source": [
    "value_array = np.array(value_list)"
   ]
  },
  {
   "cell_type": "code",
   "execution_count": 9,
   "metadata": {},
   "outputs": [],
   "source": [
    "value_array = value_array.reshape(45,338)"
   ]
  },
  {
   "cell_type": "code",
   "execution_count": 10,
   "metadata": {},
   "outputs": [],
   "source": [
    "import matplotlib.pyplot as plt"
   ]
  },
  {
   "cell_type": "code",
   "execution_count": null,
   "metadata": {},
   "outputs": [],
   "source": [
    "pd.DataFrame(value_array)"
   ]
  },
  {
   "cell_type": "code",
   "execution_count": 12,
   "metadata": {},
   "outputs": [],
   "source": [
    "genes = pd.Series(genes)\n",
    "\n",
    "genes.to_csv('genes.csv', header=  False)"
   ]
  },
  {
   "cell_type": "code",
   "execution_count": null,
   "metadata": {},
   "outputs": [],
   "source": []
  },
  {
   "cell_type": "code",
   "execution_count": 5,
   "metadata": {},
   "outputs": [
    {
     "data": {
      "text/plain": [
       "26894"
      ]
     },
     "execution_count": 5,
     "metadata": {},
     "output_type": "execute_result"
    }
   ],
   "source": [
    "len(genes)"
   ]
  },
  {
   "cell_type": "code",
   "execution_count": 7,
   "metadata": {},
   "outputs": [],
   "source": [
    "file = pd.read_excel('clustered_genes.xlsx')"
   ]
  },
  {
   "cell_type": "code",
   "execution_count": 8,
   "metadata": {},
   "outputs": [],
   "source": [
    "df = pd.DataFrame(file)"
   ]
  },
  {
   "cell_type": "code",
   "execution_count": 17,
   "metadata": {},
   "outputs": [],
   "source": [
    "km_1 = df['km = 1'].dropna()"
   ]
  },
  {
   "cell_type": "code",
   "execution_count": 11,
   "metadata": {},
   "outputs": [],
   "source": [
    "km_2 = list(df['km = 2'])"
   ]
  },
  {
   "cell_type": "code",
   "execution_count": 50,
   "metadata": {},
   "outputs": [],
   "source": [
    "km_1_upper = [item.upper() for item in km_1]"
   ]
  },
  {
   "cell_type": "code",
   "execution_count": 51,
   "metadata": {},
   "outputs": [],
   "source": [
    "km_2_upper = [item.upper() for item in km_2]"
   ]
  },
  {
   "cell_type": "code",
   "execution_count": 13,
   "metadata": {},
   "outputs": [
    {
     "data": {
      "text/plain": [
       "190"
      ]
     },
     "execution_count": 13,
     "metadata": {},
     "output_type": "execute_result"
    }
   ],
   "source": [
    "len(km_2)"
   ]
  },
  {
   "cell_type": "code",
   "execution_count": 19,
   "metadata": {},
   "outputs": [],
   "source": [
    "candidates = pd.read_excel('candidates.xlsx')"
   ]
  },
  {
   "cell_type": "code",
   "execution_count": 32,
   "metadata": {},
   "outputs": [
    {
     "data": {
      "text/html": [
       "<div>\n",
       "<style scoped>\n",
       "    .dataframe tbody tr th:only-of-type {\n",
       "        vertical-align: middle;\n",
       "    }\n",
       "\n",
       "    .dataframe tbody tr th {\n",
       "        vertical-align: top;\n",
       "    }\n",
       "\n",
       "    .dataframe thead th {\n",
       "        text-align: right;\n",
       "    }\n",
       "</style>\n",
       "<table border=\"1\" class=\"dataframe\">\n",
       "  <thead>\n",
       "    <tr style=\"text-align: right;\">\n",
       "      <th></th>\n",
       "      <th>histone genes</th>\n",
       "      <th>Epigenetic modifier</th>\n",
       "      <th>Interactor</th>\n",
       "    </tr>\n",
       "  </thead>\n",
       "  <tbody>\n",
       "    <tr>\n",
       "      <th>0</th>\n",
       "      <td>H1F0</td>\n",
       "      <td>ACTL6A</td>\n",
       "      <td>XBP1</td>\n",
       "    </tr>\n",
       "    <tr>\n",
       "      <th>1</th>\n",
       "      <td>H1FNT</td>\n",
       "      <td>ACTL6B</td>\n",
       "      <td>IL7R</td>\n",
       "    </tr>\n",
       "    <tr>\n",
       "      <th>2</th>\n",
       "      <td>H1FOO</td>\n",
       "      <td>ACTR5</td>\n",
       "      <td>APP</td>\n",
       "    </tr>\n",
       "    <tr>\n",
       "      <th>3</th>\n",
       "      <td>H1FX</td>\n",
       "      <td>ACTR8</td>\n",
       "      <td>BRCA1</td>\n",
       "    </tr>\n",
       "    <tr>\n",
       "      <th>4</th>\n",
       "      <td>H2AFB1</td>\n",
       "      <td>ARID1A</td>\n",
       "      <td>XRCC5</td>\n",
       "    </tr>\n",
       "    <tr>\n",
       "      <th>5</th>\n",
       "      <td>H2AFB2</td>\n",
       "      <td>ARID1B</td>\n",
       "      <td>WWP1</td>\n",
       "    </tr>\n",
       "    <tr>\n",
       "      <th>6</th>\n",
       "      <td>H2AFB3</td>\n",
       "      <td>ASH1L</td>\n",
       "      <td>INCENP</td>\n",
       "    </tr>\n",
       "    <tr>\n",
       "      <th>7</th>\n",
       "      <td>H2AFJ</td>\n",
       "      <td>CARM1</td>\n",
       "      <td>BRM</td>\n",
       "    </tr>\n",
       "    <tr>\n",
       "      <th>8</th>\n",
       "      <td>H2AFV</td>\n",
       "      <td>CDY1</td>\n",
       "      <td>EHMT2</td>\n",
       "    </tr>\n",
       "    <tr>\n",
       "      <th>9</th>\n",
       "      <td>H2AFVP1</td>\n",
       "      <td>CDYL</td>\n",
       "      <td>KDM1A</td>\n",
       "    </tr>\n",
       "    <tr>\n",
       "      <th>10</th>\n",
       "      <td>H2AFX</td>\n",
       "      <td>CHD3</td>\n",
       "      <td>CTCFL</td>\n",
       "    </tr>\n",
       "    <tr>\n",
       "      <th>11</th>\n",
       "      <td>H2AFY</td>\n",
       "      <td>CHD4</td>\n",
       "      <td>FOXP3</td>\n",
       "    </tr>\n",
       "    <tr>\n",
       "      <th>12</th>\n",
       "      <td>H2AFY2</td>\n",
       "      <td>CHRAC1</td>\n",
       "      <td>SUZ12</td>\n",
       "    </tr>\n",
       "    <tr>\n",
       "      <th>13</th>\n",
       "      <td>H2AFZ</td>\n",
       "      <td>CREBBP</td>\n",
       "      <td>CBX5</td>\n",
       "    </tr>\n",
       "    <tr>\n",
       "      <th>14</th>\n",
       "      <td>H2AFZP1</td>\n",
       "      <td>DNMT1</td>\n",
       "      <td>HIST1H2BA</td>\n",
       "    </tr>\n",
       "    <tr>\n",
       "      <th>15</th>\n",
       "      <td>H2AFZP2</td>\n",
       "      <td>DNMT3A</td>\n",
       "      <td>ERCC6</td>\n",
       "    </tr>\n",
       "    <tr>\n",
       "      <th>16</th>\n",
       "      <td>H2AFZP3</td>\n",
       "      <td>DNMT3B</td>\n",
       "      <td>RPS4X</td>\n",
       "    </tr>\n",
       "    <tr>\n",
       "      <th>17</th>\n",
       "      <td>H2AFZP4</td>\n",
       "      <td>DOT1L</td>\n",
       "      <td>MTRR</td>\n",
       "    </tr>\n",
       "    <tr>\n",
       "      <th>18</th>\n",
       "      <td>H2AFZP5</td>\n",
       "      <td>EHMT1</td>\n",
       "      <td>APPBP2</td>\n",
       "    </tr>\n",
       "    <tr>\n",
       "      <th>19</th>\n",
       "      <td>H2AFZP6</td>\n",
       "      <td>EHMT2</td>\n",
       "      <td>PARP1</td>\n",
       "    </tr>\n",
       "    <tr>\n",
       "      <th>20</th>\n",
       "      <td>H2BFM</td>\n",
       "      <td>ELP3</td>\n",
       "      <td>ERCC6</td>\n",
       "    </tr>\n",
       "    <tr>\n",
       "      <th>21</th>\n",
       "      <td>H2BFS</td>\n",
       "      <td>EP300</td>\n",
       "      <td>TPX2</td>\n",
       "    </tr>\n",
       "    <tr>\n",
       "      <th>22</th>\n",
       "      <td>H2BFWT</td>\n",
       "      <td>EZH1</td>\n",
       "      <td>TLX3</td>\n",
       "    </tr>\n",
       "    <tr>\n",
       "      <th>23</th>\n",
       "      <td>H2BFXP</td>\n",
       "      <td>EZH2</td>\n",
       "      <td>HIRA</td>\n",
       "    </tr>\n",
       "    <tr>\n",
       "      <th>24</th>\n",
       "      <td>H3F3A</td>\n",
       "      <td>FBXO10</td>\n",
       "      <td>APP</td>\n",
       "    </tr>\n",
       "    <tr>\n",
       "      <th>25</th>\n",
       "      <td>H3F3AP1</td>\n",
       "      <td>GTF3C4</td>\n",
       "      <td>BCCIP</td>\n",
       "    </tr>\n",
       "    <tr>\n",
       "      <th>26</th>\n",
       "      <td>H3F3AP2</td>\n",
       "      <td>HATs1</td>\n",
       "      <td>GDI1</td>\n",
       "    </tr>\n",
       "    <tr>\n",
       "      <th>27</th>\n",
       "      <td>H3F3B</td>\n",
       "      <td>HDAC1</td>\n",
       "      <td>PHF8</td>\n",
       "    </tr>\n",
       "    <tr>\n",
       "      <th>28</th>\n",
       "      <td>H3F3C</td>\n",
       "      <td>HDAC10</td>\n",
       "      <td>CRTC2</td>\n",
       "    </tr>\n",
       "    <tr>\n",
       "      <th>29</th>\n",
       "      <td>HIST1H1A</td>\n",
       "      <td>HDAC11</td>\n",
       "      <td>CENPA</td>\n",
       "    </tr>\n",
       "    <tr>\n",
       "      <th>...</th>\n",
       "      <td>...</td>\n",
       "      <td>...</td>\n",
       "      <td>...</td>\n",
       "    </tr>\n",
       "    <tr>\n",
       "      <th>171</th>\n",
       "      <td>NaN</td>\n",
       "      <td>NaN</td>\n",
       "      <td>HES1</td>\n",
       "    </tr>\n",
       "    <tr>\n",
       "      <th>172</th>\n",
       "      <td>NaN</td>\n",
       "      <td>NaN</td>\n",
       "      <td>PHB2</td>\n",
       "    </tr>\n",
       "    <tr>\n",
       "      <th>173</th>\n",
       "      <td>NaN</td>\n",
       "      <td>NaN</td>\n",
       "      <td>FOXO3</td>\n",
       "    </tr>\n",
       "    <tr>\n",
       "      <th>174</th>\n",
       "      <td>NaN</td>\n",
       "      <td>NaN</td>\n",
       "      <td>SIRT3</td>\n",
       "    </tr>\n",
       "    <tr>\n",
       "      <th>175</th>\n",
       "      <td>NaN</td>\n",
       "      <td>NaN</td>\n",
       "      <td>RELA</td>\n",
       "    </tr>\n",
       "    <tr>\n",
       "      <th>176</th>\n",
       "      <td>NaN</td>\n",
       "      <td>NaN</td>\n",
       "      <td>VIM</td>\n",
       "    </tr>\n",
       "    <tr>\n",
       "      <th>177</th>\n",
       "      <td>NaN</td>\n",
       "      <td>NaN</td>\n",
       "      <td>UBTF</td>\n",
       "    </tr>\n",
       "    <tr>\n",
       "      <th>178</th>\n",
       "      <td>NaN</td>\n",
       "      <td>NaN</td>\n",
       "      <td>PARP1</td>\n",
       "    </tr>\n",
       "    <tr>\n",
       "      <th>179</th>\n",
       "      <td>NaN</td>\n",
       "      <td>NaN</td>\n",
       "      <td>ESR1</td>\n",
       "    </tr>\n",
       "    <tr>\n",
       "      <th>180</th>\n",
       "      <td>NaN</td>\n",
       "      <td>NaN</td>\n",
       "      <td>BAZ1A</td>\n",
       "    </tr>\n",
       "    <tr>\n",
       "      <th>181</th>\n",
       "      <td>NaN</td>\n",
       "      <td>NaN</td>\n",
       "      <td>PBRM1</td>\n",
       "    </tr>\n",
       "    <tr>\n",
       "      <th>182</th>\n",
       "      <td>NaN</td>\n",
       "      <td>NaN</td>\n",
       "      <td>ACTB</td>\n",
       "    </tr>\n",
       "    <tr>\n",
       "      <th>183</th>\n",
       "      <td>NaN</td>\n",
       "      <td>NaN</td>\n",
       "      <td>CCDC85B</td>\n",
       "    </tr>\n",
       "    <tr>\n",
       "      <th>184</th>\n",
       "      <td>NaN</td>\n",
       "      <td>NaN</td>\n",
       "      <td>SMARCB1</td>\n",
       "    </tr>\n",
       "    <tr>\n",
       "      <th>185</th>\n",
       "      <td>NaN</td>\n",
       "      <td>NaN</td>\n",
       "      <td>RARA</td>\n",
       "    </tr>\n",
       "    <tr>\n",
       "      <th>186</th>\n",
       "      <td>NaN</td>\n",
       "      <td>NaN</td>\n",
       "      <td>GSK3B</td>\n",
       "    </tr>\n",
       "    <tr>\n",
       "      <th>187</th>\n",
       "      <td>NaN</td>\n",
       "      <td>NaN</td>\n",
       "      <td>MEST</td>\n",
       "    </tr>\n",
       "    <tr>\n",
       "      <th>188</th>\n",
       "      <td>NaN</td>\n",
       "      <td>NaN</td>\n",
       "      <td>CBX5</td>\n",
       "    </tr>\n",
       "    <tr>\n",
       "      <th>189</th>\n",
       "      <td>NaN</td>\n",
       "      <td>NaN</td>\n",
       "      <td>Cggbp1</td>\n",
       "    </tr>\n",
       "    <tr>\n",
       "      <th>190</th>\n",
       "      <td>NaN</td>\n",
       "      <td>NaN</td>\n",
       "      <td>HIST1H4A</td>\n",
       "    </tr>\n",
       "    <tr>\n",
       "      <th>191</th>\n",
       "      <td>NaN</td>\n",
       "      <td>NaN</td>\n",
       "      <td>GTF2I</td>\n",
       "    </tr>\n",
       "    <tr>\n",
       "      <th>192</th>\n",
       "      <td>NaN</td>\n",
       "      <td>NaN</td>\n",
       "      <td>UBTF</td>\n",
       "    </tr>\n",
       "    <tr>\n",
       "      <th>193</th>\n",
       "      <td>NaN</td>\n",
       "      <td>NaN</td>\n",
       "      <td>VPRBP</td>\n",
       "    </tr>\n",
       "    <tr>\n",
       "      <th>194</th>\n",
       "      <td>NaN</td>\n",
       "      <td>NaN</td>\n",
       "      <td>CYP81D8</td>\n",
       "    </tr>\n",
       "    <tr>\n",
       "      <th>195</th>\n",
       "      <td>NaN</td>\n",
       "      <td>NaN</td>\n",
       "      <td>INO80E</td>\n",
       "    </tr>\n",
       "    <tr>\n",
       "      <th>196</th>\n",
       "      <td>NaN</td>\n",
       "      <td>NaN</td>\n",
       "      <td>PSMD8</td>\n",
       "    </tr>\n",
       "    <tr>\n",
       "      <th>197</th>\n",
       "      <td>NaN</td>\n",
       "      <td>NaN</td>\n",
       "      <td>TLE1</td>\n",
       "    </tr>\n",
       "    <tr>\n",
       "      <th>198</th>\n",
       "      <td>NaN</td>\n",
       "      <td>NaN</td>\n",
       "      <td>AR</td>\n",
       "    </tr>\n",
       "    <tr>\n",
       "      <th>199</th>\n",
       "      <td>NaN</td>\n",
       "      <td>NaN</td>\n",
       "      <td>KDM1B</td>\n",
       "    </tr>\n",
       "    <tr>\n",
       "      <th>200</th>\n",
       "      <td>NaN</td>\n",
       "      <td>NaN</td>\n",
       "      <td>FKBP1A</td>\n",
       "    </tr>\n",
       "  </tbody>\n",
       "</table>\n",
       "<p>201 rows × 3 columns</p>\n",
       "</div>"
      ],
      "text/plain": [
       "    histone genes Epigenetic modifier Interactor \n",
       "0            H1F0              ACTL6A        XBP1\n",
       "1           H1FNT              ACTL6B        IL7R\n",
       "2           H1FOO               ACTR5         APP\n",
       "3            H1FX               ACTR8       BRCA1\n",
       "4          H2AFB1              ARID1A       XRCC5\n",
       "5          H2AFB2              ARID1B        WWP1\n",
       "6          H2AFB3               ASH1L      INCENP\n",
       "7           H2AFJ               CARM1         BRM\n",
       "8           H2AFV                CDY1       EHMT2\n",
       "9         H2AFVP1                CDYL       KDM1A\n",
       "10          H2AFX                CHD3       CTCFL\n",
       "11          H2AFY                CHD4       FOXP3\n",
       "12         H2AFY2              CHRAC1       SUZ12\n",
       "13          H2AFZ              CREBBP        CBX5\n",
       "14        H2AFZP1               DNMT1   HIST1H2BA\n",
       "15        H2AFZP2              DNMT3A       ERCC6\n",
       "16        H2AFZP3              DNMT3B       RPS4X\n",
       "17        H2AFZP4               DOT1L        MTRR\n",
       "18        H2AFZP5               EHMT1      APPBP2\n",
       "19        H2AFZP6               EHMT2       PARP1\n",
       "20          H2BFM                ELP3       ERCC6\n",
       "21          H2BFS               EP300        TPX2\n",
       "22         H2BFWT                EZH1        TLX3\n",
       "23         H2BFXP                EZH2        HIRA\n",
       "24          H3F3A              FBXO10         APP\n",
       "25        H3F3AP1              GTF3C4       BCCIP\n",
       "26        H3F3AP2               HATs1        GDI1\n",
       "27          H3F3B               HDAC1        PHF8\n",
       "28          H3F3C              HDAC10       CRTC2\n",
       "29       HIST1H1A              HDAC11       CENPA\n",
       "..            ...                 ...         ...\n",
       "171           NaN                 NaN        HES1\n",
       "172           NaN                 NaN        PHB2\n",
       "173           NaN                 NaN       FOXO3\n",
       "174           NaN                 NaN       SIRT3\n",
       "175           NaN                 NaN        RELA\n",
       "176           NaN                 NaN         VIM\n",
       "177           NaN                 NaN        UBTF\n",
       "178           NaN                 NaN       PARP1\n",
       "179           NaN                 NaN        ESR1\n",
       "180           NaN                 NaN       BAZ1A\n",
       "181           NaN                 NaN       PBRM1\n",
       "182           NaN                 NaN        ACTB\n",
       "183           NaN                 NaN     CCDC85B\n",
       "184           NaN                 NaN     SMARCB1\n",
       "185           NaN                 NaN        RARA\n",
       "186           NaN                 NaN       GSK3B\n",
       "187           NaN                 NaN        MEST\n",
       "188           NaN                 NaN        CBX5\n",
       "189           NaN                 NaN      Cggbp1\n",
       "190           NaN                 NaN    HIST1H4A\n",
       "191           NaN                 NaN       GTF2I\n",
       "192           NaN                 NaN        UBTF\n",
       "193           NaN                 NaN       VPRBP\n",
       "194           NaN                 NaN     CYP81D8\n",
       "195           NaN                 NaN      INO80E\n",
       "196           NaN                 NaN       PSMD8\n",
       "197           NaN                 NaN        TLE1\n",
       "198           NaN                 NaN          AR\n",
       "199           NaN                 NaN       KDM1B\n",
       "200           NaN                 NaN      FKBP1A\n",
       "\n",
       "[201 rows x 3 columns]"
      ]
     },
     "execution_count": 32,
     "metadata": {},
     "output_type": "execute_result"
    }
   ],
   "source": [
    "candidates = pd.DataFrame(candidates)\n",
    "candidates"
   ]
  },
  {
   "cell_type": "code",
   "execution_count": 30,
   "metadata": {},
   "outputs": [],
   "source": [
    "histone_genes = list(candidates['histone genes'].dropna())"
   ]
  },
  {
   "cell_type": "code",
   "execution_count": 33,
   "metadata": {},
   "outputs": [],
   "source": [
    "epigenetic_modifier = list(candidates['Epigenetic modifier'].dropna())"
   ]
  },
  {
   "cell_type": "code",
   "execution_count": 36,
   "metadata": {},
   "outputs": [],
   "source": [
    "interactor = list(candidates['Interactor '])"
   ]
  },
  {
   "cell_type": "code",
   "execution_count": 72,
   "metadata": {},
   "outputs": [],
   "source": [
    "hg = []\n",
    "em = []\n",
    "it = []\n",
    "for g in km_1_upper: \n",
    "    if g in histone_genes: \n",
    "        hg.append(g)\n",
    "    elif g in epigenetic_modifier:\n",
    "        em.append(g)\n",
    "    elif g in interactor: \n",
    "        it.append(g)"
   ]
  },
  {
   "cell_type": "code",
   "execution_count": 75,
   "metadata": {},
   "outputs": [
    {
     "data": {
      "text/plain": [
       "41"
      ]
     },
     "execution_count": 75,
     "metadata": {},
     "output_type": "execute_result"
    }
   ],
   "source": [
    "len(it)"
   ]
  },
  {
   "cell_type": "code",
   "execution_count": null,
   "metadata": {},
   "outputs": [],
   "source": []
  },
  {
   "cell_type": "code",
   "execution_count": 54,
   "metadata": {},
   "outputs": [],
   "source": [
    "new_d = {'histone genes': hg, 'epigenetic modifier' : em, 'interactor': it}"
   ]
  },
  {
   "cell_type": "code",
   "execution_count": 64,
   "metadata": {},
   "outputs": [],
   "source": [
    "hg = []\n",
    "em = []\n",
    "it = []\n",
    "for g in km_2_upper: \n",
    "    if g in histone_genes: \n",
    "        hg.append(g)\n",
    "    elif g in epigenetic_modifier:\n",
    "        em.append(g)\n",
    "    elif g in interactor: \n",
    "        it.append(g)"
   ]
  },
  {
   "cell_type": "code",
   "execution_count": 84,
   "metadata": {},
   "outputs": [
    {
     "data": {
      "text/plain": [
       "41"
      ]
     },
     "execution_count": 84,
     "metadata": {},
     "output_type": "execute_result"
    }
   ],
   "source": [
    "len(it)"
   ]
  },
  {
   "cell_type": "code",
   "execution_count": 83,
   "metadata": {},
   "outputs": [
    {
     "name": "stdout",
     "output_type": "stream",
     "text": [
      "analysis_cluster_of_interest.ipynb\n",
      "AzureML\n",
      "BatchAI\n",
      "candidates.xlsx\n",
      "catboost\n",
      "cluster1_from_km_7.mat\n",
      "clustered_genes.xlsx\n",
      "cluster.txt\n",
      "Deep_learning_frameworks\n",
      "Deep_learning_tutorials\n",
      "deep_water\n",
      "DGE_cluster.ipynb\n",
      "DGE_DERIVE.ipynb\n",
      "DGE_km_0.mat\n",
      "DGE_km_0).mat\n",
      "DGE(km = 0).mat\n",
      "DGE_output.mat\n",
      "dict4_file.csv\n",
      "dict5_file.csv\n",
      "dict6_file.csv\n",
      "dict7_file.csv\n",
      "dict8_file.csv\n",
      "dict_file.csv\n",
      "DocumentDBSample.ipynb\n",
      "genes\n",
      "genes.csv\n",
      "GSE110823_raw.tar\n",
      "GSM3017260_100_CNS_nuclei.mat.gz\n",
      "GSM3017261_150000_CNS_nuclei.mat\n",
      "GSM3017261_150000_CNS_nuclei.mat.gz\n",
      "GSM3017262_same_day_cells_nuclei_3000_UBCs.mat.gz\n",
      "GSM3017263_same_day_cells_nuclei_300_UBCs.mat.gz\n",
      "GSM3017264_frozen_preserved_cells_nuclei_1000_UBCs.mat.gz\n",
      "GSM3017265_frozen_preserved_cells_nuclei_200_UBCs.mat.gz\n",
      "h2o\n",
      "Introduction to Azure ML R notebooks.ipynb\n",
      "Introduction to Microsoft R Operationalization.ipynb\n",
      "IntroToJupyterPython.ipynb\n",
      "IntroTutorialinMicrosoftR.ipynb\n",
      "IntroTutorialinR.ipynb\n",
      "IrisClassifierPyMLWebService.ipynb\n",
      "julia\n",
      "last.ipynb\n",
      "LoadDataIntoDW.ipynb\n",
      "log(data+1).xlsx\n",
      "MMLSpark\n",
      "my_data.csv\n",
      "outpu5.mat\n",
      "output.mat\n",
      "raw_DGE.txt\n",
      "re_cluster.ipynb\n",
      "redefine_clusters.ipynb\n",
      "single_cell_derived.csv\n",
      "singlecell_vs_candidates.csv\n",
      "singlecell_vs_candidates.xlsx\n",
      "SparkML\n",
      "spinal_cluster.csv\n",
      "SQLDW_Explorations.ipynb\n",
      "summarise.ipynb\n",
      "sum_value.csv\n",
      "sum_value.xlsx\n",
      "Untitled1.ipynb\n",
      "Untitled2.ipynb\n",
      "Untitled3.ipynb\n",
      "Untitled4.ipynb\n",
      "Untitled Folder\n",
      "Untitled Folder 1\n",
      "Untitled Folder 2\n",
      "Untitled.ipynb\n",
      "untitled.txt\n"
     ]
    }
   ],
   "source": [
    "!ls"
   ]
  },
  {
   "cell_type": "code",
   "execution_count": null,
   "metadata": {},
   "outputs": [],
   "source": []
  }
 ],
 "metadata": {
  "kernelspec": {
   "display_name": "Python 3.5",
   "language": "python",
   "name": "python3"
  },
  "language_info": {
   "codemirror_mode": {
    "name": "ipython",
    "version": 3
   },
   "file_extension": ".py",
   "mimetype": "text/x-python",
   "name": "python",
   "nbconvert_exporter": "python",
   "pygments_lexer": "ipython3",
   "version": "3.5.5"
  }
 },
 "nbformat": 4,
 "nbformat_minor": 2
}
