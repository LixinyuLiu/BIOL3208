{
 "cells": [
  {
   "cell_type": "code",
   "execution_count": 7,
   "metadata": {},
   "outputs": [],
   "source": [
    "import os\n",
    "import scipy.io as sio\n",
    "import pandas as pd\n",
    "import urllib\n",
    "\n",
    "\n",
    "os.system(command = \"gzip -d GSM3017261_150000_CNS_nuclei.mat.gz\")\n",
    "local_matrix = os.path.abspath(\"GSM3017261_150000_CNS_nuclei.mat\")\n",
    "\n",
    "#load data into environment\n",
    "data = sio.loadmat(local_matrix)\n",
    "\n",
    "#Digital Expression Matrix\n",
    "DGE = data['DGE']\n",
    "\n",
    "#Genes\n",
    "genes = pd.Series(data['genes']).str.strip(' ')\n",
    "\n",
    "#Sample types\n",
    "sample_type = pd.Series(data['sample_type']).str.strip(' ')\n",
    "\n",
    "#Main cluster assignment\n",
    "cluster_assignment = pd.Series(data['cluster_assignment']).str.strip(' ')\n",
    "\n",
    "#Spinal cluster assignment\n",
    "spinal_cluster_assignment = pd.Series(data['spinal_cluster_assignment']).str.strip(' ')\n"
   ]
  },
  {
   "cell_type": "code",
   "execution_count": 1,
   "metadata": {},
   "outputs": [
    {
     "ename": "NameError",
     "evalue": "name 'data' is not defined",
     "output_type": "error",
     "traceback": [
      "\u001b[0;31m---------------------------------------------------------------------------\u001b[0m",
      "\u001b[0;31mNameError\u001b[0m                                 Traceback (most recent call last)",
      "\u001b[0;32m<ipython-input-1-c5d84736ba45>\u001b[0m in \u001b[0;36m<module>\u001b[0;34m()\u001b[0m\n\u001b[0;32m----> 1\u001b[0;31m \u001b[0mdata\u001b[0m\u001b[0;34m\u001b[0m\u001b[0m\n\u001b[0m",
      "\u001b[0;31mNameError\u001b[0m: name 'data' is not defined"
     ]
    }
   ],
   "source": [
    "data"
   ]
  },
  {
   "cell_type": "code",
   "execution_count": 3,
   "metadata": {},
   "outputs": [
    {
     "ename": "NameError",
     "evalue": "name 'pd' is not defined",
     "output_type": "error",
     "traceback": [
      "\u001b[0;31m---------------------------------------------------------------------------\u001b[0m",
      "\u001b[0;31mNameError\u001b[0m                                 Traceback (most recent call last)",
      "\u001b[0;32m<ipython-input-3-42fa08c14e72>\u001b[0m in \u001b[0;36m<module>\u001b[0;34m()\u001b[0m\n\u001b[0;32m----> 1\u001b[0;31m \u001b[0mcandidates\u001b[0m \u001b[0;34m=\u001b[0m \u001b[0mpd\u001b[0m\u001b[0;34m.\u001b[0m\u001b[0mread_csv\u001b[0m\u001b[0;34m(\u001b[0m\u001b[0;34m'singlecell_vs_candidates.csv'\u001b[0m\u001b[0;34m)\u001b[0m\u001b[0;34m\u001b[0m\u001b[0m\n\u001b[0m",
      "\u001b[0;31mNameError\u001b[0m: name 'pd' is not defined"
     ]
    }
   ],
   "source": [
    "candidates = pd.read_csv('singlecell_vs_candidates.csv')"
   ]
  },
  {
   "cell_type": "code",
   "execution_count": 2,
   "metadata": {},
   "outputs": [
    {
     "ename": "NameError",
     "evalue": "name 'candidates' is not defined",
     "output_type": "error",
     "traceback": [
      "\u001b[0;31m---------------------------------------------------------------------------\u001b[0m",
      "\u001b[0;31mNameError\u001b[0m                                 Traceback (most recent call last)",
      "\u001b[0;32m<ipython-input-2-a99d30505e10>\u001b[0m in \u001b[0;36m<module>\u001b[0;34m()\u001b[0m\n\u001b[0;32m----> 1\u001b[0;31m \u001b[0mcandidate_genes\u001b[0m \u001b[0;34m=\u001b[0m \u001b[0mlist\u001b[0m \u001b[0;34m(\u001b[0m\u001b[0mcandidates\u001b[0m\u001b[0;34m[\u001b[0m\u001b[0;34m'Genes'\u001b[0m\u001b[0;34m]\u001b[0m\u001b[0;34m)\u001b[0m\u001b[0;34m\u001b[0m\u001b[0m\n\u001b[0m\u001b[1;32m      2\u001b[0m \u001b[0mcandidate_gene\u001b[0m \u001b[0;34m=\u001b[0m \u001b[0;34m[\u001b[0m\u001b[0;34m]\u001b[0m\u001b[0;34m\u001b[0m\u001b[0m\n\u001b[1;32m      3\u001b[0m \u001b[0;32mfor\u001b[0m \u001b[0mgen\u001b[0m \u001b[0;32min\u001b[0m \u001b[0mcandidate_genes\u001b[0m\u001b[0;34m:\u001b[0m\u001b[0;34m\u001b[0m\u001b[0m\n\u001b[1;32m      4\u001b[0m     \u001b[0mcandidate_gene\u001b[0m\u001b[0;34m.\u001b[0m\u001b[0mappend\u001b[0m\u001b[0;34m(\u001b[0m\u001b[0mstr\u001b[0m\u001b[0;34m.\u001b[0m\u001b[0mlower\u001b[0m\u001b[0;34m(\u001b[0m\u001b[0mgen\u001b[0m\u001b[0;34m)\u001b[0m\u001b[0;34m)\u001b[0m\u001b[0;34m\u001b[0m\u001b[0m\n",
      "\u001b[0;31mNameError\u001b[0m: name 'candidates' is not defined"
     ]
    }
   ],
   "source": [
    "candidate_genes = list (candidates['Genes'])\n",
    "candidate_gene = []\n",
    "for gen in candidate_genes:\n",
    "    candidate_gene.append(str.lower(gen))"
   ]
  },
  {
   "cell_type": "code",
   "execution_count": 4,
   "metadata": {},
   "outputs": [],
   "source": [
    "candidates['Genes'] = candidate_gene"
   ]
  },
  {
   "cell_type": "code",
   "execution_count": 10,
   "metadata": {},
   "outputs": [],
   "source": [
    "Gene = list(data['genes'])\n",
    "gene = []\n",
    "for gen in Gene:\n",
    "    gene.append(str.lower(gen))\n",
    "gene1 = []    \n",
    "for g in gene:\n",
    "    gene1.append(g.rstrip())\n",
    "    \n",
    "genes = pd.Series(gene)"
   ]
  },
  {
   "cell_type": "raw",
   "metadata": {},
   "source": []
  },
  {
   "cell_type": "code",
   "execution_count": 11,
   "metadata": {},
   "outputs": [],
   "source": [
    "index_list = []\n",
    "for g in candidate_gene: \n",
    "    if g in gene1: \n",
    "        index_list.append(gene1.index(g))\n",
    "\n",
    "DGE_output = DGE[:,index_list]"
   ]
  },
  {
   "cell_type": "code",
   "execution_count": 12,
   "metadata": {},
   "outputs": [
    {
     "data": {
      "text/plain": [
       "dict_keys(['barcodes', '__version__', 'spinal_cluster_assignment', '__globals__', 'cluster_assignment', 'DGE', 'genes', 'sample_type', '__header__'])"
      ]
     },
     "execution_count": 12,
     "metadata": {},
     "output_type": "execute_result"
    }
   ],
   "source": [
    "data.keys()"
   ]
  },
  {
   "cell_type": "code",
   "execution_count": null,
   "metadata": {},
   "outputs": [],
   "source": [
    "data_derievd = dict({'sample_type': sample_type, 'genes' :gene1, 'spinal_cluster_assignment':spinal_cluster_assignment,\n",
    "               'cluster_assignment':cluster_assignment, 'DGE' :DGE_output})\n",
    "data_derievd"
   ]
  },
  {
   "cell_type": "code",
   "execution_count": 16,
   "metadata": {},
   "outputs": [],
   "source": [
    "sio.savemat('output.mat', data_derievd) "
   ]
  },
  {
   "cell_type": "code",
   "execution_count": 17,
   "metadata": {},
   "outputs": [
    {
     "data": {
      "text/plain": [
       "dict_keys(['__version__', 'spinal_cluster_assignment', '__globals__', 'cluster_assignment', 'DGE', 'genes', 'sample_type', '__header__'])"
      ]
     },
     "execution_count": 17,
     "metadata": {},
     "output_type": "execute_result"
    }
   ],
   "source": [
    "data = sio.loadmat('output.mat')\n",
    "data.keys()"
   ]
  },
  {
   "cell_type": "code",
   "execution_count": null,
   "metadata": {},
   "outputs": [],
   "source": []
  },
  {
   "cell_type": "code",
   "execution_count": 18,
   "metadata": {},
   "outputs": [],
   "source": [
    "#Digital Expression Matrix\n",
    "DGE = data['DGE']\n",
    "\n",
    "#Genes\n",
    "genes = data['genes']\n",
    "\n",
    "#Sample types\n",
    "sample_type = data['sample_type']\n",
    "\n",
    "#Main cluster assignment\n",
    "cluster_assignment = data['cluster_assignment']\n",
    "\n",
    "#Spinal cluster assignment\n",
    "spinal_cluster_assignment = data['spinal_cluster_assignment']\n"
   ]
  },
  {
   "cell_type": "code",
   "execution_count": 19,
   "metadata": {},
   "outputs": [
    {
     "data": {
      "text/plain": [
       "array([[None]], dtype=object)"
      ]
     },
     "execution_count": 19,
     "metadata": {},
     "output_type": "execute_result"
    }
   ],
   "source": [
    "sample_type"
   ]
  },
  {
   "cell_type": "code",
   "execution_count": 20,
   "metadata": {},
   "outputs": [
    {
     "data": {
      "text/plain": [
       "0          p2_brain\n",
       "1         p11_brain\n",
       "2         p11_brain\n",
       "3          p2_brain\n",
       "4          p2_brain\n",
       "5          p2_spine\n",
       "6          p2_spine\n",
       "7          p2_brain\n",
       "8          p2_brain\n",
       "9          p2_brain\n",
       "10         p2_brain\n",
       "11         p2_brain\n",
       "12         p2_brain\n",
       "13         p2_brain\n",
       "14        p11_brain\n",
       "15        p11_brain\n",
       "16        p11_spine\n",
       "17        p11_spine\n",
       "18        p11_brain\n",
       "19        p11_brain\n",
       "20         p2_brain\n",
       "21         p2_brain\n",
       "22         p2_spine\n",
       "23         p2_spine\n",
       "24         p2_brain\n",
       "25        p11_brain\n",
       "26        p11_brain\n",
       "27        p11_brain\n",
       "28        p11_brain\n",
       "29        p11_spine\n",
       "            ...    \n",
       "156019     p2_brain\n",
       "156020    p11_brain\n",
       "156021    p11_brain\n",
       "156022    p11_brain\n",
       "156023    p11_brain\n",
       "156024    p11_spine\n",
       "156025    p11_spine\n",
       "156026    p11_brain\n",
       "156027    p11_brain\n",
       "156028     p2_brain\n",
       "156029     p2_brain\n",
       "156030     p2_brain\n",
       "156031     p2_spine\n",
       "156032     p2_brain\n",
       "156033     p2_brain\n",
       "156034     p2_brain\n",
       "156035    p11_brain\n",
       "156036    p11_brain\n",
       "156037    p11_brain\n",
       "156038    p11_spine\n",
       "156039    p11_spine\n",
       "156040    p11_brain\n",
       "156041    p11_brain\n",
       "156042     p2_brain\n",
       "156043     p2_brain\n",
       "156044     p2_brain\n",
       "156045     p2_brain\n",
       "156046     p2_brain\n",
       "156047     p2_brain\n",
       "156048     p2_brain\n",
       "Length: 156049, dtype: object"
      ]
     },
     "execution_count": 20,
     "metadata": {},
     "output_type": "execute_result"
    }
   ],
   "source": [
    "data_derievd['sample_type']"
   ]
  },
  {
   "cell_type": "code",
   "execution_count": 13,
   "metadata": {},
   "outputs": [],
   "source": [
    "DGE_test = DGE_output [0:100, 0:100]"
   ]
  },
  {
   "cell_type": "code",
   "execution_count": 14,
   "metadata": {},
   "outputs": [
    {
     "data": {
      "text/plain": [
       "<100x100 sparse matrix of type '<class 'numpy.float64'>'\n",
       "\twith 589 stored elements in Compressed Sparse Column format>"
      ]
     },
     "execution_count": 14,
     "metadata": {},
     "output_type": "execute_result"
    }
   ],
   "source": [
    "DGE_test"
   ]
  },
  {
   "cell_type": "code",
   "execution_count": 15,
   "metadata": {},
   "outputs": [],
   "source": [
    "import csv"
   ]
  },
  {
   "cell_type": "code",
   "execution_count": 17,
   "metadata": {},
   "outputs": [],
   "source": [
    "DGE_test = DGE_test.todense()"
   ]
  },
  {
   "cell_type": "code",
   "execution_count": null,
   "metadata": {},
   "outputs": [],
   "source": [
    "DGE_test"
   ]
  },
  {
   "cell_type": "code",
   "execution_count": 20,
   "metadata": {},
   "outputs": [
    {
     "data": {
      "text/plain": [
       "numpy.matrixlib.defmatrix.matrix"
      ]
     },
     "execution_count": 20,
     "metadata": {},
     "output_type": "execute_result"
    }
   ],
   "source": [
    "type(DGE_test)"
   ]
  },
  {
   "cell_type": "code",
   "execution_count": 21,
   "metadata": {},
   "outputs": [],
   "source": [
    "DGE_df = pd.DataFrame(DGE_test)"
   ]
  },
  {
   "cell_type": "code",
   "execution_count": 24,
   "metadata": {},
   "outputs": [
    {
     "data": {
      "text/plain": [
       "dict_keys(['__header__', 'cluster_assignment', 'genes', '__globals__', 'barcodes', 'spinal_cluster_assignment', '__version__', 'DGE', 'sample_type'])"
      ]
     },
     "execution_count": 24,
     "metadata": {},
     "output_type": "execute_result"
    }
   ],
   "source": [
    "data.keys()"
   ]
  },
  {
   "cell_type": "code",
   "execution_count": 28,
   "metadata": {},
   "outputs": [],
   "source": [
    "import pandas as pd\n",
    "df = pd.DataFrame(DGE_df, columns = gene1[0:100], index = sample_type[0:100])"
   ]
  },
  {
   "cell_type": "code",
   "execution_count": 1,
   "metadata": {},
   "outputs": [
    {
     "ename": "NameError",
     "evalue": "name 'candidate_genes' is not defined",
     "output_type": "error",
     "traceback": [
      "\u001b[0;31m---------------------------------------------------------------------------\u001b[0m",
      "\u001b[0;31mNameError\u001b[0m                                 Traceback (most recent call last)",
      "\u001b[0;32m<ipython-input-1-26d5c01646d8>\u001b[0m in \u001b[0;36m<module>\u001b[0;34m()\u001b[0m\n\u001b[0;32m----> 1\u001b[0;31m \u001b[0mcandidate_genes\u001b[0m\u001b[0;34m\u001b[0m\u001b[0m\n\u001b[0m",
      "\u001b[0;31mNameError\u001b[0m: name 'candidate_genes' is not defined"
     ]
    }
   ],
   "source": [
    "candidate_genes"
   ]
  }
 ],
 "metadata": {
  "kernelspec": {
   "display_name": "Python 3.5",
   "language": "python",
   "name": "python3"
  },
  "language_info": {
   "codemirror_mode": {
    "name": "ipython",
    "version": 3
   },
   "file_extension": ".py",
   "mimetype": "text/x-python",
   "name": "python",
   "nbconvert_exporter": "python",
   "pygments_lexer": "ipython3",
   "version": "3.5.5"
  }
 },
 "nbformat": 4,
 "nbformat_minor": 2
}
