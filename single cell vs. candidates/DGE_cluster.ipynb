{
 "cells": [
  {
   "cell_type": "code",
   "execution_count": 1,
   "metadata": {},
   "outputs": [],
   "source": [
    "import scipy.io as sio\n",
    "import pandas as pd\n",
    "from scipy import sparse"
   ]
  },
  {
   "cell_type": "code",
   "execution_count": 2,
   "metadata": {},
   "outputs": [],
   "source": [
    "%run DGE_DERIVE.ipynb"
   ]
  },
  {
   "cell_type": "code",
   "execution_count": null,
   "metadata": {},
   "outputs": [],
   "source": [
    "data = data_derievd\n",
    "data"
   ]
  },
  {
   "cell_type": "code",
   "execution_count": 4,
   "metadata": {},
   "outputs": [
    {
     "data": {
      "text/plain": [
       "dict_keys(['sample_type', 'DGE', 'genes', 'cluster_assignment', 'spinal_cluster_assignment'])"
      ]
     },
     "execution_count": 4,
     "metadata": {},
     "output_type": "execute_result"
    }
   ],
   "source": [
    "\n",
    "data.keys()"
   ]
  },
  {
   "cell_type": "code",
   "execution_count": 5,
   "metadata": {},
   "outputs": [],
   "source": [
    "#Digital Expression Matrix\n",
    "DGE = data['DGE']\n",
    "\n",
    "#Genes\n",
    "genes = data['genes']\n",
    "\n",
    "#Sample types\n",
    "sample_type = data['sample_type']\n",
    "\n",
    "#Main cluster assignment\n",
    "cluster_assignment = data['cluster_assignment']\n",
    "\n",
    "#Spinal cluster assignment\n",
    "spinal_cluster_assignment = data['spinal_cluster_assignment']\n"
   ]
  },
  {
   "cell_type": "code",
   "execution_count": 6,
   "metadata": {},
   "outputs": [],
   "source": [
    "from sklearn.cluster import KMeans  "
   ]
  },
  {
   "cell_type": "code",
   "execution_count": null,
   "metadata": {},
   "outputs": [],
   "source": [
    "help(KMeans)"
   ]
  },
  {
   "cell_type": "code",
   "execution_count": 9,
   "metadata": {},
   "outputs": [],
   "source": [
    "DGE_1 = DGE.transpose()"
   ]
  },
  {
   "cell_type": "code",
   "execution_count": 1,
   "metadata": {},
   "outputs": [],
   "source": [
    "def print_length(km): \n",
    "    km_0 = []\n",
    "    km_1 = []\n",
    "    km_2 = []\n",
    "    km_3 = []\n",
    "    km_4 = []\n",
    "    km_5 = []\n",
    "    km_6 = []\n",
    "    km_7 = []\n",
    "    km_8 = []\n",
    "    km_9 = []\n",
    "    bin_ = []\n",
    "\n",
    "    for (row, label) in enumerate(labeler.labels_):   \n",
    "        if label == 0: \n",
    "            km_0.append(row)\n",
    "        elif label == 1:\n",
    "            km_1.append(row)\n",
    "        elif label == 2: \n",
    "            km_2.append(row)\n",
    "        elif  label == 3: \n",
    "            km_3.append(row)\n",
    "        elif label == 4:\n",
    "            km_4.append(row)\n",
    "        elif label == 5: \n",
    "            km_5.append(row)\n",
    "        elif label == 6:\n",
    "            km_6.append(row)\n",
    "        elif label == 7: \n",
    "            km_7.append(row)\n",
    "        elif  label == 8: \n",
    "            km_8.append(row)\n",
    "        elif label == 9:\n",
    "            km_9.append(row)\n",
    "        else:\n",
    "            bin_.append(row)  \n",
    "    print(len(km_0), len(km_1), len(km_2), len(km_3), len(km_4), len(km_5), len(km_6), len(km_7), len(km_8), len(km_9), len(bin_))"
   ]
  },
  {
   "cell_type": "code",
   "execution_count": 10,
   "metadata": {},
   "outputs": [
    {
     "data": {
      "text/plain": [
       "KMeans(algorithm='auto', copy_x=True, init='k-means++', max_iter=300,\n",
       "    n_clusters=2, n_init=10, n_jobs=None, precompute_distances='auto',\n",
       "    random_state=0, tol=0.0001, verbose=0)"
      ]
     },
     "execution_count": 10,
     "metadata": {},
     "output_type": "execute_result"
    }
   ],
   "source": [
    "s = sparse.coo_matrix(DGE)\n",
    "labeler = KMeans(n_clusters = 2) \n",
    "KMeans(n_clusters=2, random_state=0).fit(s)"
   ]
  },
  {
   "cell_type": "code",
   "execution_count": 11,
   "metadata": {},
   "outputs": [
    {
     "ename": "NameError",
     "evalue": "name 'Kmeans' is not defined",
     "output_type": "error",
     "traceback": [
      "\u001b[0;31m---------------------------------------------------------------------------\u001b[0m",
      "\u001b[0;31mNameError\u001b[0m                                 Traceback (most recent call last)",
      "\u001b[0;32m<ipython-input-11-ab08a5b26f3d>\u001b[0m in \u001b[0;36m<module>\u001b[0;34m()\u001b[0m\n\u001b[0;32m----> 1\u001b[0;31m \u001b[0mhelp\u001b[0m\u001b[0;34m(\u001b[0m\u001b[0mKmeans\u001b[0m\u001b[0;34m)\u001b[0m\u001b[0;34m\u001b[0m\u001b[0m\n\u001b[0m",
      "\u001b[0;31mNameError\u001b[0m: name 'Kmeans' is not defined"
     ]
    }
   ],
   "source": [
    "help(Kmeans)"
   ]
  },
  {
   "cell_type": "code",
   "execution_count": null,
   "metadata": {},
   "outputs": [
    {
     "name": "stdout",
     "output_type": "stream",
     "text": [
      "36258 119791 0 0 0 0 0 0 0 0 0\n",
      "None\n",
      "11393 101085 43571 0 0 0 0 0 0 0 0\n",
      "None\n",
      "24654 26585 8319 96491 0 0 0 0 0 0 0\n",
      "None\n",
      "27910 25085 82327 5895 14832 0 0 0 0 0 0\n",
      "None\n",
      "8385 24414 25492 4432 14902 78424 0 0 0 0 0\n",
      "None\n",
      "69093 27836 8184 1510 24610 10074 14742 0 0 0 0\n",
      "None\n",
      "12653 68432 9751 1071 7254 23340 25420 8128 0 0 0\n",
      "None\n",
      "10521 62573 6548 7877 7150 13997 25081 784 21518 0 0\n",
      "None\n"
     ]
    }
   ],
   "source": [
    "## n_cluster range from 2-10\n",
    "\n",
    "km_list = [2,3,4,5,6,7,8,9,10]\n",
    "\n",
    "for km in km_list: \n",
    "    labeler = KMeans(n_clusters = km) \n",
    "    labeler.fit(s.tocsr()) \n",
    "    print(print_length(km))\n",
    "\n"
   ]
  },
  {
   "cell_type": "code",
   "execution_count": null,
   "metadata": {},
   "outputs": [],
   "source": []
  },
  {
   "cell_type": "code",
   "execution_count": null,
   "metadata": {},
   "outputs": [],
   "source": [
    "#from sklearn.metrics import silhouette_samples, silhouette_score"
   ]
  },
  {
   "cell_type": "code",
   "execution_count": null,
   "metadata": {},
   "outputs": [],
   "source": [
    "s = sparse.coo_matrix(DGE)\n",
    "labeler.fit(s.tocsr()) "
   ]
  },
  {
   "cell_type": "code",
   "execution_count": null,
   "metadata": {},
   "outputs": [],
   "source": [
    "#silhouette_avg = silhouette_score(DGE_1, labeler)\n",
    "#print(\"For n_clusters =\", n_clusters,\n",
    " #         \"The average silhouette_score is :\", silhouette_avg)"
   ]
  },
  {
   "cell_type": "code",
   "execution_count": null,
   "metadata": {},
   "outputs": [],
   "source": []
  },
  {
   "cell_type": "code",
   "execution_count": null,
   "metadata": {},
   "outputs": [],
   "source": [
    "###for (row, label) in enumerate(labeler.labels_):   \n",
    "###  print (\"row %d has label %d\"%(row, label))"
   ]
  },
  {
   "cell_type": "code",
   "execution_count": null,
   "metadata": {},
   "outputs": [],
   "source": [
    "km_0 = []\n",
    "km_1 = []\n",
    "km_2 = []\n",
    "km_3 = []\n",
    "km_4 = []\n",
    "km_5 = []\n",
    "km_6 = []\n",
    "km_7 = []\n",
    "km_8 = []\n",
    "km_9 = []\n",
    "bin_ = []\n",
    "\n",
    "for (row, label) in enumerate(labeler.labels_):   \n",
    "    if label == 0: \n",
    "        km_0.append(row)\n",
    "    elif label == 1:\n",
    "        km_1.append(row)\n",
    "    elif label == 2: \n",
    "        km_2.append(row)\n",
    "    elif  label == 3: \n",
    "        km_3.append(row)\n",
    "    elif label == 4:\n",
    "        km_4.append(row)\n",
    "    elif label == 5: \n",
    "        km_5.append(row)\n",
    "    elif label == 6:\n",
    "        km_6.append(row)\n",
    "    elif label == 7: \n",
    "        km_7.append(row)\n",
    "    elif  label == 8: \n",
    "        km_8.append(row)\n",
    "    elif label == 9:\n",
    "        km_9.append(row)\n",
    "    else:\n",
    "        bin_.append(row)"
   ]
  },
  {
   "cell_type": "code",
   "execution_count": null,
   "metadata": {},
   "outputs": [],
   "source": [
    "print(len(km_0), len(km_1), len(km_2), len(km_3), len(km_4), len(km_5), len(km_6), len(km_7), len(km_8), len(km_9), len(bin_))\n",
    "#  km = 2 --> 337, 1\n",
    "#  km = 3 --> 310, 27, 1\n",
    "#  km = 4 --> 310, 26, 1, 1\n",
    "#  km = 5 --> 298, 3, 1, 35, 1\n",
    "#  km = 6 --> 298, 3, 1, 1, 1, 34\n",
    "#  km = 7 --> 34, 298, 1, 1, 2, 1, 1\n",
    "#  km = 8 --> 32, 1, 1, 298, 1, 2, 2, 1\n",
    "#  km = 9 --> 2, 43, 2, 1, 1, 285, 2, 1, 1, 0\n",
    "#  km = 10--> 31, 298, 1, 1, 1, 1, 1, 1, 2, 1, 0"
   ]
  },
  {
   "cell_type": "code",
   "execution_count": null,
   "metadata": {},
   "outputs": [],
   "source": [
    "gene_km_0 = genes[73]\n",
    "#gene_km_0"
   ]
  },
  {
   "cell_type": "code",
   "execution_count": null,
   "metadata": {},
   "outputs": [],
   "source": [
    "gene_km_0 = genes[73]\n",
    "# gene_km_0\n",
    "gene_km_1 = genes[km_1]\n",
    "gene_km_2 = genes[km_2]\n",
    "gene_km_3 = genes[km_3]"
   ]
  },
  {
   "cell_type": "code",
   "execution_count": null,
   "metadata": {},
   "outputs": [],
   "source": [
    "DGE_km0 = DGE[km_0,:]\n",
    "DGE_km1 = DGE[km_1,:]\n",
    "DGE_km2 = DGE[km_2,:]\n",
    "DGE_km3 = DGE[km_3,:]\n",
    "\n",
    "print(DGE_km0.mean(), DGE_km1.mean(), DGE_km2.mean(), DGE_km3.mean())"
   ]
  },
  {
   "cell_type": "code",
   "execution_count": null,
   "metadata": {},
   "outputs": [],
   "source": [
    "data_km0 = dict({'sample_type': sample_type, 'genes':gene_km_0 , 'spinal_cluster_assignment':spinal_cluster_assignment,\n",
    "               'cluster_assignment':cluster_assignment, 'DGE' : DGE_km0 })\n",
    "data_km1 = dict({'sample_type': sample_type, 'genes':gene_km_1 , 'spinal_cluster_assignment':spinal_cluster_assignment,\n",
    "               'cluster_assignment':cluster_assignment, 'DGE' : DGE_km1 })\n",
    "data_km2 = dict({'sample_type': sample_type, 'genes':gene_km_2 , 'spinal_cluster_assignment':spinal_cluster_assignment,\n",
    "               'cluster_assignment':cluster_assignment, 'DGE' : DGE_km2 })\n",
    "data_km3 = dict({'sample_type': sample_type, 'genes':gene_km_3 , 'spinal_cluster_assignment':spinal_cluster_assignment,\n",
    "               'cluster_assignment':cluster_assignment, 'DGE' : DGE_km3 })"
   ]
  },
  {
   "cell_type": "code",
   "execution_count": null,
   "metadata": {},
   "outputs": [],
   "source": [
    "import matplotlib.pyplot as plt"
   ]
  },
  {
   "cell_type": "code",
   "execution_count": null,
   "metadata": {},
   "outputs": [],
   "source": [
    "# when KM = 0\n",
    "plt.spy(DGE_km0[0:20,])\n"
   ]
  },
  {
   "cell_type": "code",
   "execution_count": null,
   "metadata": {},
   "outputs": [],
   "source": []
  },
  {
   "cell_type": "code",
   "execution_count": null,
   "metadata": {},
   "outputs": [],
   "source": [
    "# when KM = 1\n",
    "plt.spy(DGE_km1 [0:5])"
   ]
  },
  {
   "cell_type": "raw",
   "metadata": {},
   "source": [
    "plt.spy(DGE_km3 [0:5])"
   ]
  },
  {
   "cell_type": "code",
   "execution_count": null,
   "metadata": {},
   "outputs": [],
   "source": [
    "plt.spy(DGE_km3 [0:5])"
   ]
  },
  {
   "cell_type": "code",
   "execution_count": null,
   "metadata": {},
   "outputs": [],
   "source": [
    "DGE"
   ]
  },
  {
   "cell_type": "code",
   "execution_count": null,
   "metadata": {},
   "outputs": [],
   "source": [
    "DGE[0:1,:]"
   ]
  },
  {
   "cell_type": "code",
   "execution_count": null,
   "metadata": {},
   "outputs": [],
   "source": [
    "print(DGE.eliminate_zeros())"
   ]
  }
 ],
 "metadata": {
  "kernelspec": {
   "display_name": "Python 3.5",
   "language": "python",
   "name": "python3"
  },
  "language_info": {
   "codemirror_mode": {
    "name": "ipython",
    "version": 3
   },
   "file_extension": ".py",
   "mimetype": "text/x-python",
   "name": "python",
   "nbconvert_exporter": "python",
   "pygments_lexer": "ipython3",
   "version": "3.5.5"
  }
 },
 "nbformat": 4,
 "nbformat_minor": 2
}
